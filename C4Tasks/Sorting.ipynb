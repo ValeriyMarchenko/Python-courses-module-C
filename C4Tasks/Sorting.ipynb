{
 "cells": [
  {
   "cell_type": "markdown",
   "metadata": {},
   "source": [
    "Bad sort"
   ]
  },
  {
   "cell_type": "code",
   "execution_count": 1,
   "metadata": {},
   "outputs": [
    {
     "name": "stdout",
     "output_type": "stream",
     "text": [
      "[1, 2, 3, 4, 5, 6, 7, 8, 9]\n",
      "204205\n"
     ]
    }
   ],
   "source": [
    "import random  # модуль, с помощью которого перемешиваем массив\n",
    "\n",
    "# пусть имеем массив всего лишь из 9 элементов\n",
    "array = [2, 3, 1, 4, 6, 5, 9, 8, 7] \n",
    "\n",
    "is_sort = False  # станет True, если отсортирован\n",
    "count = 0  # счетчик количества перестановок\n",
    "\n",
    "while not is_sort:  # пока не отсортирован\n",
    "    count += 1  # прибавляем 1 к счетчику\n",
    "    \n",
    "    random.shuffle(array)  # перемешиваем массив\n",
    "    \n",
    "    # проверяем отсортирован ли\n",
    "    is_sort = True\n",
    "    for i in range(len(array)-1):\n",
    "        if array[i] > array[i+1]:\n",
    "            is_sort = False\n",
    "            break\n",
    "            \n",
    "print(array)\n",
    "# [1, 2, 3, 4, 5, 6, 7, 8, 9]\n",
    "print(count)\n",
    "# 290698"
   ]
  },
  {
   "cell_type": "code",
   "execution_count": 2,
   "metadata": {},
   "outputs": [
    {
     "name": "stdout",
     "output_type": "stream",
     "text": [
      "158\n"
     ]
    }
   ],
   "source": [
    "import math\n",
    "a = math.factorial(100)\n",
    "print(len(str(a)))"
   ]
  },
  {
   "cell_type": "markdown",
   "metadata": {},
   "source": [
    "One more bad sort"
   ]
  },
  {
   "cell_type": "code",
   "execution_count": 10,
   "metadata": {},
   "outputs": [
    {
     "name": "stdout",
     "output_type": "stream",
     "text": [
      "[1, 2, 3, 4, 5, 6, 7, 8, 9]\n"
     ]
    }
   ],
   "source": [
    "array = [2, 3, 1, 4, 6, 5, 9, 8, 7]\n",
    "for i in range(len(array)): # проходим по всему массиву\n",
    "    idx_min = i # сохраняем индекс предположительно минимального элемента\n",
    "    for j in range(i+1, len(array)):\n",
    "        if array[j] < array[idx_min]:\n",
    "            \n",
    "            idx_min = j\n",
    "\n",
    "    if i != idx_min: # если индекс не совпадает с минимальным, меняем\n",
    "        array[i], array[idx_min] = array[idx_min], array[i]\n",
    "\n",
    "print(array)"
   ]
  },
  {
   "cell_type": "code",
   "execution_count": 11,
   "metadata": {},
   "outputs": [
    {
     "name": "stdout",
     "output_type": "stream",
     "text": [
      "[9, 8, 7, 6, 5, 4, 3, 2, 1]\n"
     ]
    }
   ],
   "source": [
    "array = [2, 3, 1, 4, 6, 5, 9, 8, 7]\n",
    "for i in range(len(array)):\n",
    "    idx_max = i \n",
    "    for j in range(i, len(array)):\n",
    "        if array[j] > array[idx_max]:\n",
    "            idx_max = j\n",
    "    if i != idx_max: \n",
    "        array[i], array[idx_max] = array[idx_max], array[i]\n",
    "\n",
    "print(array)"
   ]
  },
  {
   "cell_type": "markdown",
   "metadata": {},
   "source": [
    "Bubble sorting"
   ]
  },
  {
   "cell_type": "code",
   "execution_count": 12,
   "metadata": {},
   "outputs": [
    {
     "name": "stdout",
     "output_type": "stream",
     "text": [
      "[1, 2, 3, 4, 5, 6, 7, 8, 9]\n"
     ]
    }
   ],
   "source": [
    "array = [2, 3, 1, 4, 6, 5, 9, 8, 7]\n",
    "\n",
    "for i in range(len(array)):\n",
    "    for j in range(len(array)-i-1):\n",
    "        if array[j] > array[j+1]:\n",
    "            array[j], array[j+1] = array[j+1], array[j]\n",
    "        \n",
    "print(array)"
   ]
  },
  {
   "cell_type": "markdown",
   "metadata": {},
   "source": [
    "Insertion sort"
   ]
  },
  {
   "cell_type": "code",
   "execution_count": 15,
   "metadata": {},
   "outputs": [
    {
     "name": "stdout",
     "output_type": "stream",
     "text": [
      "[1, 2, 3, 4, 5, 6, 7, 8, 9]\n"
     ]
    }
   ],
   "source": [
    "array = [2, 3, 1, 4, 6, 5, 9, 8, 7]\n",
    "for i in range(1, len(array)):\n",
    "    x = array[i]\n",
    "    idx = i\n",
    "    while idx > 0 and array[idx-1] > x:\n",
    "        array[idx] = array[idx-1]\n",
    "        idx -= 1\n",
    "    array[idx] = x\n",
    "\n",
    "print(array)"
   ]
  },
  {
   "cell_type": "markdown",
   "metadata": {},
   "source": [
    "Merge sort"
   ]
  },
  {
   "cell_type": "code",
   "execution_count": null,
   "metadata": {},
   "outputs": [],
   "source": [
    "def merge_sort(L):  # «разделяй»\n",
    "    if len(L) < 2:  # если кусок массива равен 2, \n",
    "        return L[:]  # выходим из рекурсии\n",
    "    else:\n",
    "        middle = len(L) // 2  # ищем середину\n",
    "        left = merge_sort(L[:middle])  # рекурсивно делим левую часть\n",
    "        right = merge_sort(L[middle:])  # и правую\n",
    "        return merge(left, right)  # выполняем слияние\n",
    "    \n",
    "\n",
    "def merge(left, right):  # «властвуй»\n",
    "    result = []  # результирующий массив\n",
    "    i,j = 0,0  # указатели на элементы\n",
    "    \n",
    "    # пока указатели не вышли за границы\n",
    "    while i < len(left) and j < len(right):\n",
    "        if left[i] < right[j]:\n",
    "            result.append(left[i])\n",
    "            i += 1\n",
    "        else:\n",
    "            result.append(right[j])\n",
    "            j += 1\n",
    "    \n",
    "    # добавляем хвосты\n",
    "    while i < len(left):\n",
    "        result.append(left[i])\n",
    "        i += 1\n",
    "        \n",
    "    while j < len(right):\n",
    "        result.append(right[j])\n",
    "        j += 1\n",
    "        \n",
    "    return result"
   ]
  },
  {
   "cell_type": "markdown",
   "metadata": {},
   "source": [
    "Quick sort"
   ]
  },
  {
   "cell_type": "code",
   "execution_count": null,
   "metadata": {},
   "outputs": [],
   "source": [
    "def qsort(array, left, right):\n",
    "    middle = (left+right) // 2\n",
    "    \n",
    "    p = array[middle]\n",
    "    i,j = left, right\n",
    "    while i <= j:\n",
    "        while array[i] < p:\n",
    "            i += 1\n",
    "        while array[j] > p:\n",
    "            j -= 1\n",
    "        if i <= j:\n",
    "            array[i], array[j] = array[j], array[i]\n",
    "            i += 1\n",
    "            j -= 1\n",
    "        \n",
    "    if j > left:\n",
    "        qsort(array, left, j)\n",
    "    if right > i:\n",
    "        qsort(array, i, right)"
   ]
  },
  {
   "cell_type": "markdown",
   "metadata": {},
   "source": [
    "upgrading"
   ]
  },
  {
   "cell_type": "code",
   "execution_count": null,
   "metadata": {},
   "outputs": [],
   "source": [
    "def qsort_random(array, left, right):    \n",
    "    p = random.choice(array[left:right+1])\n",
    "    i,j = left, right\n",
    "    while i <= j:\n",
    "        while array[i] < p:\n",
    "            i += 1\n",
    "        while array[j] > p:\n",
    "            j -= 1\n",
    "        if i <= j:\n",
    "            count += 1\n",
    "            array[i], array[j] = array[j], array[i]\n",
    "            i += 1\n",
    "            j -= 1\n",
    "        \n",
    "    if j > left:\n",
    "        qsort_random(array, left, j)\n",
    "    if right > i:\n",
    "        qsort_random(array, i, right)"
   ]
  }
 ],
 "metadata": {
  "interpreter": {
   "hash": "ae11ba872b309ee3de4c7f48a89f2443e5870b494b11bd84f8c0311ddd29d5b8"
  },
  "kernelspec": {
   "display_name": "Python 3.10.0 64-bit",
   "language": "python",
   "name": "python3"
  },
  "language_info": {
   "codemirror_mode": {
    "name": "ipython",
    "version": 3
   },
   "file_extension": ".py",
   "mimetype": "text/x-python",
   "name": "python",
   "nbconvert_exporter": "python",
   "pygments_lexer": "ipython3",
   "version": "3.10.0"
  },
  "orig_nbformat": 4
 },
 "nbformat": 4,
 "nbformat_minor": 2
}
