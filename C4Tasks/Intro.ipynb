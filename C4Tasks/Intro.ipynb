{
 "cells": [
  {
   "cell_type": "code",
   "execution_count": 4,
   "metadata": {},
   "outputs": [],
   "source": [
    "def par_checker(string):\n",
    "    stack = []  # инициализируем стек\n",
    "    \n",
    "    for s in string:  # читаем строку посимвольно\n",
    "        if s == \"(\":  # если открывающая скобка, \n",
    "            stack.append(s)  # добавляем ее в стек\n",
    "        elif s == \")\": \n",
    "            # если встретилась закрывающая скобка, то проверяем\n",
    "            # пуст ли стек и является ли верхний элемент - открывающей скобкой\n",
    "            if len(stack) > 0 and stack[-1] == \"(\":\n",
    "                stack.pop()  # удаляем из стека\n",
    "            else:  # иначе завершаем функцию с False\n",
    "                return False\n",
    "    # если стек пустой, то незакрытых скобок не осталось\n",
    "    # значит возвращаем True, иначе - False\n",
    "    return len(stack) == 0 "
   ]
  },
  {
   "cell_type": "code",
   "execution_count": 9,
   "metadata": {},
   "outputs": [
    {
     "data": {
      "text/plain": [
       "True"
      ]
     },
     "execution_count": 9,
     "metadata": {},
     "output_type": "execute_result"
    }
   ],
   "source": [
    "def par_checker(string):\n",
    "    stack = []\n",
    "\n",
    "    for s in string:\n",
    "        if s == '(':\n",
    "            stack.append(s)\n",
    "        elif s == \")\": \n",
    "            if len(stack) > 0 and stack[-1] == \"(\":\n",
    "                stack.pop()\n",
    "            else:\n",
    "                return False\n",
    "                \n",
    "        if s == '[':\n",
    "            stack.append(s)\n",
    "        elif s == \"]\": \n",
    "            if len(stack) > 0 and stack[-1] == \"[\":\n",
    "                stack.pop()\n",
    "            else:\n",
    "                return False\n",
    "    return len(stack) == 0 \n",
    "\n",
    "\n",
    "string = input()\n",
    "par_checker(string)"
   ]
  },
  {
   "cell_type": "markdown",
   "metadata": {},
   "source": [
    "Better variant of previous func:"
   ]
  },
  {
   "cell_type": "code",
   "execution_count": null,
   "metadata": {},
   "outputs": [],
   "source": [
    "pars = {\")\" : \"(\", \"]\" : \"[\"}\n",
    "\n",
    "def par_checker_mod(string):\n",
    "    stack = []\n",
    "    \n",
    "    for s in string:\n",
    "        if s in \"([\":\n",
    "            stack.append(s)\n",
    "        elif s in \")]\":\n",
    "            if len(stack) > 0 and stack[-1] == pars[s]:\n",
    "                stack.pop()\n",
    "            else:\n",
    "                return False\n",
    "    return len(stack) == 0 "
   ]
  },
  {
   "cell_type": "markdown",
   "metadata": {},
   "source": [
    "#Graphs"
   ]
  },
  {
   "cell_type": "code",
   "execution_count": null,
   "metadata": {},
   "outputs": [],
   "source": [
    "G = {\n",
    "    'Admiralteystaya' : ['Sadovaya'],\n",
    "    'Sadovaya' : ['Admiralteystaya', 'Spasskaya', 'Sennaya Ploschad', 'Zvenigorodskaya'],\n",
    "    'Spasskaya' : ['Sadovaya', 'Sennaya Ploschad', 'Dostoyevskaya'],\n",
    "    'Sennaya Ploschad' : ['Sadovaya', 'Spasskaya'],\n",
    "    'Dostoyevskaya' : ['Spasskaya', 'Vladimirskaya'],\n",
    "    'Vladimirskaya' : ['Dostoyevskaya', 'Pushkinskaya'],\n",
    "    'Pushkinskaya' : ['Vladimirskaya', 'Zvenigorodskaya'],\n",
    "    'Zvenigorodskaya' : ['Pushkinskaya', 'Sadovaya'],\n",
    "} "
   ]
  },
  {
   "cell_type": "code",
   "execution_count": null,
   "metadata": {},
   "outputs": [],
   "source": [
    "G_2 = {\n",
    "    'Admiralteystaya' : {'Sadovaya' : 4},\n",
    "    'Sadovaya' : {'Admiralteystaya' : 4, 'Spasskaya' : 3, 'Sennaya Ploschad' : 4, 'Zvenigorodskaya' : 5},\n",
    "    'Spasskaya' : {'Sadovaya' : 3, 'Sennaya Ploschad' : 4, 'Dostoyevskaya' : 6},\n",
    "    'Sennaya Ploschad' : {'Sadovaya' : 4, 'Spasskaya' : 4},\n",
    "    'Dostoyevskaya' : {'Spasskaya' : 6, 'Vladimirskaya' : 3},\n",
    "    'Vladimirskaya' : {'Dostoyevskaya' : 3, 'Pushkinskaya' : 4},\n",
    "    'Pushkinskaya' : {'Vladimirskaya' : 4, 'Zvenigorodskaya' : 3},\n",
    "    'Zvenigorodskaya' : {'Pushkinskaya' : 3, 'Sadovaya' : 5},\n",
    "}"
   ]
  }
 ],
 "metadata": {
  "interpreter": {
   "hash": "ae11ba872b309ee3de4c7f48a89f2443e5870b494b11bd84f8c0311ddd29d5b8"
  },
  "kernelspec": {
   "display_name": "Python 3.10.0 64-bit",
   "language": "python",
   "name": "python3"
  },
  "language_info": {
   "codemirror_mode": {
    "name": "ipython",
    "version": 3
   },
   "file_extension": ".py",
   "mimetype": "text/x-python",
   "name": "python",
   "nbconvert_exporter": "python",
   "pygments_lexer": "ipython3",
   "version": "3.10.0"
  },
  "orig_nbformat": 4
 },
 "nbformat": 4,
 "nbformat_minor": 2
}
