{
 "cells": [
  {
   "cell_type": "code",
   "execution_count": 6,
   "metadata": {},
   "outputs": [
    {
     "name": "stdout",
     "output_type": "stream",
     "text": [
      "10\n"
     ]
    }
   ],
   "source": [
    "class NonPositiveDigitException(ValueError):\n",
    "    pass\n",
    "\n",
    "class Square():\n",
    "    def __init__(self, side):\n",
    "        self.side = side\n",
    "        if side < 0:\n",
    "            raise NonPositiveDigitException('Value error')\n",
    "\n",
    "    def get_side(self):\n",
    "        return self.side\n",
    "\n",
    "sq = Square(10)\n",
    "print(sq.side)"
   ]
  },
  {
   "cell_type": "code",
   "execution_count": 8,
   "metadata": {},
   "outputs": [
    {
     "data": {
      "text/plain": [
       "10"
      ]
     },
     "execution_count": 8,
     "metadata": {},
     "output_type": "execute_result"
    }
   ],
   "source": [
    "import math\n",
    "\n",
    "math.trunc(math.fmod(math.fabs(-10000000), 55)+0.3)"
   ]
  },
  {
   "cell_type": "code",
   "execution_count": 19,
   "metadata": {},
   "outputs": [
    {
     "name": "stdout",
     "output_type": "stream",
     "text": [
      "49\n",
      "44\n",
      "February\n",
      "02/01/22\n"
     ]
    }
   ],
   "source": [
    "import time\n",
    "\n",
    "print(time.strftime('%S'))\n",
    "print(time.strftime('%M'))\n",
    "print(time.strftime('%B'))\n",
    "print(time.strftime('%x'))"
   ]
  }
 ],
 "metadata": {
  "interpreter": {
   "hash": "ae11ba872b309ee3de4c7f48a89f2443e5870b494b11bd84f8c0311ddd29d5b8"
  },
  "kernelspec": {
   "display_name": "Python 3.10.0 64-bit",
   "language": "python",
   "name": "python3"
  },
  "language_info": {
   "codemirror_mode": {
    "name": "ipython",
    "version": 3
   },
   "file_extension": ".py",
   "mimetype": "text/x-python",
   "name": "python",
   "nbconvert_exporter": "python",
   "pygments_lexer": "ipython3",
   "version": "3.10.0"
  },
  "orig_nbformat": 4
 },
 "nbformat": 4,
 "nbformat_minor": 2
}
