{
 "cells": [
  {
   "cell_type": "code",
   "execution_count": 1,
   "metadata": {},
   "outputs": [
    {
     "name": "stdout",
     "output_type": "stream",
     "text": [
      "100\n"
     ]
    }
   ],
   "source": [
    "class Dog:\n",
    "    _happiness = 10\n",
    "\n",
    "    def __init__(self, name, age):\n",
    "        self.name = name\n",
    "        self.age = age\n",
    "\n",
    "    @property\n",
    "    def human_age(self):\n",
    "        return self.age * 7.3\n",
    "\n",
    "    # добавим новое поле - шкала счастья\n",
    "    @property\n",
    "    def happiness(self):\n",
    "        return self._happiness\n",
    "\n",
    "    # с помощью декоратора setter мы можем неявно передать во второй \n",
    "    # аргумент значение, находящееся справа от равно, а не закидывать это \n",
    "    # значение в скобки, как мы это делали в модуле C1, когда не знали о \n",
    "    # декораторах класса \n",
    "    @happiness.setter\n",
    "    # допустим, мы хотим, чтобы счастье питомца измерялось шкалой от 0 до 100\n",
    "    def happiness(self, value):\n",
    "        if value <= 100 and value >= 0:\n",
    "            self._happiness = value\n",
    "        else:\n",
    "            raise ValueError(\"Happiness must be between 0 ... 100\")\n",
    "\n",
    "\n",
    "jane = Dog(\"jane\", 4)\n",
    "jane.happiness = 100  # осчастливим нашу собаку < :\n",
    "print(jane.happiness)"
   ]
  },
  {
   "cell_type": "code",
   "execution_count": 2,
   "metadata": {},
   "outputs": [
    {
     "name": "stdout",
     "output_type": "stream",
     "text": [
      "ParentClass classmethod. 0\n",
      "ParentClass classmethod. 5\n",
      "ChildClass classmethod. 0\n",
      "ChildClass classmethod. 6\n",
      "ParentClass classmethod. 1\n",
      "ParentClass classmethod. 10\n"
     ]
    }
   ],
   "source": [
    "class ParentClass:\n",
    " \n",
    "       @classmethod\n",
    "       def method(cls, arg):\n",
    "           print(\"%s classmethod. %d\" % (cls.__name__, arg))\n",
    " \n",
    "       @classmethod\n",
    "       def call_original_method(cls):\n",
    "           cls.method(5)\n",
    " \n",
    "       def call_class_method(self):\n",
    "           self.method(10)\n",
    " \n",
    " \n",
    "class ChildClass(ParentClass):\n",
    "    \n",
    "    @classmethod\n",
    "    def call_original_method(cls):\n",
    "        cls.method(6)\n",
    " \n",
    " \n",
    "# Вызываем методы класса через класс.\n",
    "ParentClass.method(0)  # ParentClassclassmethod. 0\n",
    "ParentClass.call_original_method()  # ParentClassclassmethod. 5\n",
    " \n",
    "ChildClass.method(0)  # ChildClassclassmethod. 0\n",
    "ChildClass.call_original_method()  # ChildClassclassmethod. 6\n",
    " \n",
    "# Вызываем методы класса через объект.\n",
    "my_obj = ParentClass()\n",
    "my_obj.method(1)  # ParentClassclassmethod. 1\n",
    "my_obj.call_class_method()  # ParentClassclassmethod. 10"
   ]
  }
 ],
 "metadata": {
  "interpreter": {
   "hash": "ae11ba872b309ee3de4c7f48a89f2443e5870b494b11bd84f8c0311ddd29d5b8"
  },
  "kernelspec": {
   "display_name": "Python 3.10.0 64-bit",
   "language": "python",
   "name": "python3"
  },
  "language_info": {
   "codemirror_mode": {
    "name": "ipython",
    "version": 3
   },
   "file_extension": ".py",
   "mimetype": "text/x-python",
   "name": "python",
   "nbconvert_exporter": "python",
   "pygments_lexer": "ipython3",
   "version": "3.10.0"
  },
  "orig_nbformat": 4
 },
 "nbformat": 4,
 "nbformat_minor": 2
}
