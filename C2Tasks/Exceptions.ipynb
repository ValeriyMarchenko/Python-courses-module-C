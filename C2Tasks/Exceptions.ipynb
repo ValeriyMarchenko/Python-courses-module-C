{
 "cells": [
  {
   "cell_type": "code",
   "execution_count": 1,
   "metadata": {},
   "outputs": [
    {
     "name": "stdout",
     "output_type": "stream",
     "text": [
      "Перед исключением\n",
      "division by zero\n",
      "После исключения\n",
      "После После исключения\n"
     ]
    }
   ],
   "source": [
    "try:  # Добавляем конструкцию try-except для отлова нашей ошибки\n",
    "    print(\"Перед исключением\")\n",
    "    # теперь пользователь сам вводит числа для деления\n",
    "    a = int(input(\"a: \"))\n",
    "    b = int(input(\"b: \"))\n",
    "    c = a / b  # здесь может возникнуть исключение деления на ноль\n",
    "    print(c)  # печатаем c = a / b если всё хорошо\n",
    "except ZeroDivisionError as e: # Добавляем тип именно той ошибки которую хотим отловить.     \n",
    "    print(e)  # Выводим информацию об ошибке\n",
    "    print(\"После исключения\")\n",
    " \n",
    "print(\"После После исключения\")"
   ]
  },
  {
   "cell_type": "markdown",
   "metadata": {},
   "source": [
    "try:\n",
    "    *ваш код*\n",
    "except Ошибка:\n",
    "    *Код отлова*\n",
    "else:\n",
    "    *Код, который выполнится если всё хорошо прошло в блоке try*\n",
    "finally:\n",
    "    *Код, который выполнится по любому*"
   ]
  },
  {
   "cell_type": "code",
   "execution_count": 2,
   "metadata": {},
   "outputs": [
    {
     "name": "stdout",
     "output_type": "stream",
     "text": [
      "Перед исключением\n",
      "После исключения\n",
      "Finally\n",
      "После После исключения\n"
     ]
    }
   ],
   "source": [
    "try:\n",
    "    print(\"Перед исключением\")\n",
    "    a = int(input(\"a: \"))\n",
    "    b = int(input(\"b: \"))\n",
    "    c = a / b\n",
    "    print(c)  # печатаем c = a / b если всё хорошо\n",
    "except ZeroDivisionError as e:\n",
    "    print(\"После исключения\")\n",
    "else:  # код в блоке else выполняется только в том случае, если код в блоке try выполнился успешно (т.е. не вылетело никакого исключения).\n",
    "    print(\"Всё хорошо\")\n",
    "finally:  # код в блоке finally выполнится в любом случае, при выходе из try-except\n",
    "    print(\"Finally\")\n",
    "print(\"После После исключения\")"
   ]
  },
  {
   "cell_type": "code",
   "execution_count": null,
   "metadata": {},
   "outputs": [],
   "source": [
    "age = int(input(\"Сколько тебе лет?\"))\n",
    " \n",
    "if age > 100 or age <= 0:\n",
    "    raise ValueError(\"Тебе не может быть столько лет\")\n",
    " \n",
    "print(f\"Тебе {age} лет!\") # Возраст выводится только если пользователь ввёл правильный возраст."
   ]
  },
  {
   "cell_type": "code",
   "execution_count": null,
   "metadata": {},
   "outputs": [],
   "source": [
    "try:\n",
    "    age = int(input(\"Сколько тебе лет?\"))\n",
    "\n",
    "    if age > 100 or age <= 0:\n",
    "        raise ValueError(\"Тебе не может быть столько лет\")\n",
    "\n",
    "    # Возраст выводится только если пользователь ввёл правильный возраст.\n",
    "    print(f\"Тебе {age} лет!\")\n",
    "except ValueError:\n",
    "    print(\"Неправильный возраст\")"
   ]
  },
  {
   "cell_type": "code",
   "execution_count": 7,
   "metadata": {},
   "outputs": [
    {
     "name": "stdout",
     "output_type": "stream",
     "text": [
      "Incorrect value\n",
      "Exiting\n"
     ]
    }
   ],
   "source": [
    "try:\n",
    "    num = int(input('Input number: '))\n",
    "except ValueError as e:\n",
    "    print('Incorrect value')\n",
    "else:\n",
    "    print(f'Everything is good, you enter {num}')\n",
    "finally:\n",
    "    print('Exiting')"
   ]
  }
 ],
 "metadata": {
  "interpreter": {
   "hash": "ae11ba872b309ee3de4c7f48a89f2443e5870b494b11bd84f8c0311ddd29d5b8"
  },
  "kernelspec": {
   "display_name": "Python 3.10.0 64-bit",
   "language": "python",
   "name": "python3"
  },
  "language_info": {
   "codemirror_mode": {
    "name": "ipython",
    "version": 3
   },
   "file_extension": ".py",
   "mimetype": "text/x-python",
   "name": "python",
   "nbconvert_exporter": "python",
   "pygments_lexer": "ipython3",
   "version": "3.10.0"
  },
  "orig_nbformat": 4
 },
 "nbformat": 4,
 "nbformat_minor": 2
}
